{
 "cells": [
  {
   "cell_type": "code",
   "execution_count": null,
   "id": "648ac401-e662-4787-a946-fbdc33dfd4ef",
   "metadata": {},
   "outputs": [],
   "source": [
    "1. What is a Python library? Why do we use Python libraries?\n",
    "A Python library is a collection of pre-written code and functionalities \n",
    "that can be imported and used in Python scripts or programs"
   ]
  },
  {
   "cell_type": "code",
   "execution_count": null,
   "id": "71a8a663-2b5b-479c-bcc1-daa244cd54aa",
   "metadata": {},
   "outputs": [],
   "source": [
    "2. What is the difference between Numpy array and List?\n",
    " NumPy arrays and lists are both used to store collections of items\n",
    "1. homogeneity: numpy array  stores all the same data type but list can contain\n",
    "different data types\n",
    "2. performance: numpy array better performance in numerical operations \n",
    "list are more flexible but may be slower in certain operations\n",
    "3.size and dimension: numpy array support multidimensional arrays but lists are \n",
    "one dimension\n",
    "4. functionality: numpy provides a variety of functions for numerical operations \n",
    "list are more general purpose and provide a wide range of methods for adding, \n",
    "removing or modifying items.\n"
   ]
  },
  {
   "cell_type": "code",
   "execution_count": 18,
   "id": "901221d7-887d-474e-a718-b5fca19a16c3",
   "metadata": {},
   "outputs": [
    {
     "name": "stdout",
     "output_type": "stream",
     "text": [
      "[[ 1  2  3  4]\n",
      " [ 5  6  7  8]\n",
      " [ 9 10 11 12]]\n",
      "shape of array (3, 4)\n",
      "dimenstion of array 2\n"
     ]
    }
   ],
   "source": [
    "'''3. Fin dthe shape, size and dimension of the following array?\n",
    "[[1, 2, 3, 4]\n",
    "[5, 6, 7, 8],\n",
    "[9, 10, 11, 12]]'''\n",
    "import numpy as np\n",
    "arr=np.array([[1, 2, 3, 4],[5, 6, 7, 8],[9, 10, 11, 12]])\n",
    "print(arr)\n",
    "print(\"shape of array\",arr.shape)\n",
    "print(\"dimenstion of array\",arr.ndim)"
   ]
  },
  {
   "cell_type": "code",
   "execution_count": 19,
   "id": "b63397c3-e17d-4fdd-b225-6699d3eb00d2",
   "metadata": {},
   "outputs": [
    {
     "data": {
      "text/plain": [
       "array([1, 2, 3, 4])"
      ]
     },
     "execution_count": 19,
     "metadata": {},
     "output_type": "execute_result"
    }
   ],
   "source": [
    "'''4. Write python code to access the first row of the following array?\n",
    "[[1, 2, 3, 4]\n",
    "[5, 6, 7, 8],\n",
    "[9, 10, 11, 12]]'''\n",
    "arr[0]"
   ]
  },
  {
   "cell_type": "code",
   "execution_count": 21,
   "id": "35e7e0ad-daa8-4cbc-bfb3-8e2918bf88b9",
   "metadata": {},
   "outputs": [
    {
     "data": {
      "text/plain": [
       "12"
      ]
     },
     "execution_count": 21,
     "metadata": {},
     "output_type": "execute_result"
    }
   ],
   "source": [
    "'''5. How do you access the element at the third row and fourth column \n",
    "from the given numpy array?\n",
    "[[1, 2, 3, 4]\n",
    "[5, 6, 7, 8],\n",
    "[9, 10, 11, 12]]'''\n",
    "arr[2][3]"
   ]
  },
  {
   "cell_type": "code",
   "execution_count": 27,
   "id": "157ec90e-9fee-4c1a-a305-d32a61abe542",
   "metadata": {},
   "outputs": [
    {
     "data": {
      "text/plain": [
       "array([ 1,  3,  5,  7,  9, 11])"
      ]
     },
     "execution_count": 27,
     "metadata": {},
     "output_type": "execute_result"
    }
   ],
   "source": [
    "'''6. Write code to extract all odd-indexed elements from the given numpy array?\n",
    "[[1, 2, 3, 4]\n",
    "[5, 6, 7, 8],\n",
    "[9, 10, 11, 12]]'''\n",
    "arr[arr%2==1]\n"
   ]
  },
  {
   "cell_type": "code",
   "execution_count": 37,
   "id": "d82770cd-1708-4f25-a8b6-08c4a0f19acc",
   "metadata": {},
   "outputs": [
    {
     "name": "stdout",
     "output_type": "stream",
     "text": [
      "[[0.23467859 0.0437642  0.26613093]\n",
      " [0.89860105 0.09827803 0.21042308]\n",
      " [0.87305346 0.16058033 0.42960643]]\n"
     ]
    }
   ],
   "source": [
    "'''7. How can you generate a random 3x3 matrix with values between 0 and 1?'''\n",
    "x=np.random.random((3,3))\n",
    "print(x)"
   ]
  },
  {
   "cell_type": "code",
   "execution_count": 56,
   "id": "8ce862fc-7efe-4c76-904d-8fc8b2c3d5f7",
   "metadata": {},
   "outputs": [],
   "source": [
    "# 8. Describe the difference between np.random.rand and np.random.randn?\n",
    "'''np.random.rand generates random numbers from a uniform distribution over the\n",
    "interval [0,1)\n",
    "np.random.randn generates random numbers from a normal distribution '''\n",
    "rand_array = np.random.rand(2, 3)"
   ]
  },
  {
   "cell_type": "code",
   "execution_count": 38,
   "id": "8fbbedfd-b004-4531-a986-9f4dd15d0349",
   "metadata": {},
   "outputs": [
    {
     "data": {
      "text/plain": [
       "array([[[ 1,  2,  3,  4],\n",
       "        [ 5,  6,  7,  8],\n",
       "        [ 9, 10, 11, 12]]])"
      ]
     },
     "execution_count": 38,
     "metadata": {},
     "output_type": "execute_result"
    }
   ],
   "source": [
    "'''9. Write code to increase the dimension of the following array?\n",
    "[[1, 2, 3, 4]\n",
    "[5, 6, 7, 8],\n",
    "[9, 10, 11, 12]]'''\n",
    "np.expand_dims(arr,axis=0)"
   ]
  },
  {
   "cell_type": "code",
   "execution_count": 39,
   "id": "5e88733d-ceaa-4075-abc1-f8fa8145eab0",
   "metadata": {},
   "outputs": [
    {
     "data": {
      "text/plain": [
       "array([[ 1,  5,  9],\n",
       "       [ 2,  6, 10],\n",
       "       [ 3,  7, 11],\n",
       "       [ 4,  8, 12]])"
      ]
     },
     "execution_count": 39,
     "metadata": {},
     "output_type": "execute_result"
    }
   ],
   "source": [
    "'''10. How to transpose the following array in NumPy?\n",
    "[[1, 2, 3, 4]\n",
    "[5, 6, 7, 8],\n",
    "[9, 10, 11, 12]]'''\n",
    "arr.T"
   ]
  },
  {
   "cell_type": "code",
   "execution_count": 48,
   "id": "9ae721c3-1564-4f0e-b4dc-dc72133c0faa",
   "metadata": {},
   "outputs": [
    {
     "name": "stdout",
     "output_type": "stream",
     "text": [
      "index wise\n",
      " [[  1   4   9]\n",
      " [ 25  36  49]\n",
      " [ 81 100 121]]\n"
     ]
    }
   ],
   "source": [
    "'''11. Consi^er the following matrix:\n",
    "Matrix A: [[1, 2, 3, 4] [5, 6, 7, 8],[9, 10, 11, 12]]\n",
    "Matrix B: [[1, 2, 3, 4] [5, 6, 7, 8],[9, 10, 11, 12]]\n",
    "Perform the following operation using Python1\n",
    "1. Index wise multiplication\n",
    "2. Matix multiplication\n",
    "3. Add both the matices\n",
    "4.Subtact matix B from A \n",
    "5.Divide Matix B by A'''\n",
    "A=np.array([[1, 2, 3], [5, 6, 7],[9, 10, 11]])\n",
    "B=np.array([[1, 2, 3], [5, 6, 7],[9, 10, 11]])\n",
    "print(\"index wise\\n\",A*B)"
   ]
  },
  {
   "cell_type": "code",
   "execution_count": 50,
   "id": "9ec47714-3f80-4994-bece-5ef4ec3bd080",
   "metadata": {},
   "outputs": [
    {
     "name": "stdout",
     "output_type": "stream",
     "text": [
      "Matrix mulitpication\n",
      " [[ 38  44  50]\n",
      " [ 98 116 134]\n",
      " [158 188 218]]\n"
     ]
    }
   ],
   "source": [
    "print(\"Matrix mulitpication\\n\",A@B)"
   ]
  },
  {
   "cell_type": "code",
   "execution_count": 51,
   "id": "555cda6a-0bf6-4e84-b4a5-458cd130a6de",
   "metadata": {},
   "outputs": [
    {
     "name": "stdout",
     "output_type": "stream",
     "text": [
      "Matrix addition\n",
      " [[ 2  4  6]\n",
      " [10 12 14]\n",
      " [18 20 22]]\n"
     ]
    }
   ],
   "source": [
    "print(\"Matrix addition\\n\",A+B)"
   ]
  },
  {
   "cell_type": "code",
   "execution_count": 52,
   "id": "07f86781-5d3a-4b41-9497-48bc8c862240",
   "metadata": {},
   "outputs": [
    {
     "name": "stdout",
     "output_type": "stream",
     "text": [
      "Subtact matix B from A\n",
      " [[0 0 0]\n",
      " [0 0 0]\n",
      " [0 0 0]]\n"
     ]
    }
   ],
   "source": [
    "print(\"Subtact matix B from A\\n\",A-B)"
   ]
  },
  {
   "cell_type": "code",
   "execution_count": 53,
   "id": "b085c7ed-3e37-4f1f-b773-59ab128d6830",
   "metadata": {},
   "outputs": [
    {
     "name": "stdout",
     "output_type": "stream",
     "text": [
      "Divison matrix\n",
      " [[1. 1. 1.]\n",
      " [1. 1. 1.]\n",
      " [1. 1. 1.]]\n"
     ]
    }
   ],
   "source": [
    "print(\"Divison matrix\\n\",B/A)"
   ]
  },
  {
   "cell_type": "code",
   "execution_count": 54,
   "id": "add5d673-dce6-4df4-8e0e-1cefb6e4bbfb",
   "metadata": {},
   "outputs": [
    {
     "data": {
      "text/plain": [
       "array([[ 72057594037927936, 144115188075855872, 216172782113783808,\n",
       "        288230376151711744],\n",
       "       [360287970189639680, 432345564227567616, 504403158265495552,\n",
       "        576460752303423488],\n",
       "       [648518346341351424, 720575940379279360, 792633534417207296,\n",
       "        864691128455135232]])"
      ]
     },
     "execution_count": 54,
     "metadata": {},
     "output_type": "execute_result"
    }
   ],
   "source": [
    "# 12. Which function in Numpy can be used to swap the byte order of an array?\n",
    "arr.newbyteorder()"
   ]
  },
  {
   "cell_type": "code",
   "execution_count": null,
   "id": "cfc81920-fa88-45e3-b309-f250865acc2c",
   "metadata": {},
   "outputs": [],
   "source": [
    "#13. What is the significance of the np.linalg.inv function?\n",
    "The np.linalg.inv function in NumPy is used to compute the multiplicative \n",
    "inverse of a matrix.\n",
    "The significance of the np.linalg.inv function lies in its applications, \n",
    "such as solving linear systems of equations, finding determinants, and \n",
    "inverting matrices, which are common tasks in linear algebra and numerical \n",
    "computations. \n"
   ]
  },
  {
   "cell_type": "code",
   "execution_count": null,
   "id": "38f81cf2-ddff-4c21-a04d-5e718dae4bf2",
   "metadata": {},
   "outputs": [],
   "source": [
    "#15. What is broa^casting in Numpy?\n",
    "Broadcasting in NumPy to perform operations on arrays of different shapes \n",
    "and sizes. In cases where the shapes of the arrays are not the same, \n",
    "NumPy automatically broadcasts the smaller array to make it compatible \n",
    "with the larger array, enabling element-wise operations without the need \n",
    "for explicit loop structures.\n"
   ]
  },
  {
   "cell_type": "code",
   "execution_count": null,
   "id": "761450d6-8194-4a61-b0c5-c57afebe4fa3",
   "metadata": {},
   "outputs": [],
   "source": [
    "#14. What soes the np.reshape function do, and how is it used?\n",
    "The np.reshape function in NumPy is used to change the shape of an array\n",
    "without changing its data. It allows you to rearrange the elements of an \n",
    "array to a new shape while maintaining the same total number of elements."
   ]
  },
  {
   "cell_type": "code",
   "execution_count": null,
   "id": "73b5cf38-0cc2-47b9-bb65-a087fa450786",
   "metadata": {},
   "outputs": [],
   "source": []
  },
  {
   "cell_type": "code",
   "execution_count": null,
   "id": "a7a65e8b-ad35-4416-bcee-b30b66e25864",
   "metadata": {},
   "outputs": [],
   "source": []
  },
  {
   "cell_type": "code",
   "execution_count": null,
   "id": "475b8b39-ac8b-4ac9-9b5b-84c4a2fb7956",
   "metadata": {},
   "outputs": [],
   "source": []
  },
  {
   "cell_type": "code",
   "execution_count": null,
   "id": "c693a580-4cac-4b8d-bc1c-68112952e290",
   "metadata": {},
   "outputs": [],
   "source": []
  },
  {
   "cell_type": "code",
   "execution_count": null,
   "id": "1d18aadc-685a-4502-8a43-b9d2451a206d",
   "metadata": {},
   "outputs": [],
   "source": []
  }
 ],
 "metadata": {
  "kernelspec": {
   "display_name": "Python 3 (ipykernel)",
   "language": "python",
   "name": "python3"
  },
  "language_info": {
   "codemirror_mode": {
    "name": "ipython",
    "version": 3
   },
   "file_extension": ".py",
   "mimetype": "text/x-python",
   "name": "python",
   "nbconvert_exporter": "python",
   "pygments_lexer": "ipython3",
   "version": "3.10.8"
  }
 },
 "nbformat": 4,
 "nbformat_minor": 5
}
